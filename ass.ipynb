{
 "cells": [
  {
   "cell_type": "code",
   "execution_count": null,
   "metadata": {},
   "outputs": [],
   "source": [
    "import cv2\n",
    "import numpy as np\n",
    "import matplotlib.pyplot as plt\n",
    "\n",
    "def piecewise_linear_transform(image, breakpoints, slopes):\n",
    "    \n",
    "    # Create a lookup table for the transformation\n",
    "    lookup_table = np.zeros(256, dtype=np.uint8)\n",
    "    \n",
    "    for i in range(len(breakpoints) - 1):\n",
    "        start, end = breakpoints[i], breakpoints[i+1]\n",
    "        slope = slopes[i]\n",
    "        lookup_table[start:end] = np.clip(np.arange(start, end) * slope, 0, 255)\n",
    "    \n",
    "    # Apply the transformation using the lookup table\n",
    "    transformed_image = cv2.LUT(image, lookup_table)\n",
    "    print(lookup_table)\n",
    "    return transformed_image\n",
    "\n",
    "# Load an example image\n",
    "image_path = \"emma.jpg\"\n",
    "original_image = cv2.imread(image_path, cv2.IMREAD_GRAYSCALE)\n",
    "\n",
    "# Define the piecewise transformation parameters\n",
    "breakpoints = [0, 50, 150, 255]\n",
    "slopes = [1, 1.55, 1]\n",
    "\n",
    "# Apply the piecewise linear transformation\n",
    "transformed_image = piecewise_linear_transform(original_image, breakpoints, slopes)\n",
    "\n",
    "# Display the original and transformed images using matplotlib\n",
    "plt.figure(figsize=(10, 5))\n",
    "plt.subplot(1, 2, 1)\n",
    "plt.imshow(original_image, cmap='gray')\n",
    "plt.title(\"Original Image\")\n",
    "\n",
    "plt.subplot(1, 2, 2)\n",
    "plt.imshow(transformed_image, cmap='gray')\n",
    "plt.title(\"Transformed Image\")\n",
    "\n",
    "plt.tight_layout()\n",
    "plt.show()"
   ]
  }
 ],
 "metadata": {
  "language_info": {
   "name": "python"
  },
  "orig_nbformat": 4
 },
 "nbformat": 4,
 "nbformat_minor": 2
}
